{
  "nbformat": 4,
  "nbformat_minor": 0,
  "metadata": {
    "colab": {
      "provenance": [],
      "include_colab_link": true
    },
    "kernelspec": {
      "name": "python3",
      "display_name": "Python 3"
    },
    "language_info": {
      "name": "python"
    }
  },
  "cells": [
    {
      "cell_type": "markdown",
      "metadata": {
        "id": "view-in-github",
        "colab_type": "text"
      },
      "source": [
        "<a href=\"https://colab.research.google.com/github/snigdha2606/SE20UARI146_Assignment3_Q3/blob/main/SunSpot_SARIMA.ipynb\" target=\"_parent\"><img src=\"https://colab.research.google.com/assets/colab-badge.svg\" alt=\"Open In Colab\"/></a>"
      ]
    },
    {
      "cell_type": "code",
      "execution_count": null,
      "metadata": {
        "id": "Ozzw25xG-EcQ"
      },
      "outputs": [],
      "source": [
        "import pandas as pd\n",
        "import numpy as np\n",
        "from statsmodels.tsa.statespace.sarimax import SARIMAX\n",
        "\n",
        "# Load the sunspot activity data\n",
        "data = pd.read_csv('sunspot_activity.csv')\n",
        "\n",
        "# Split the data into training and test sets\n",
        "X_train = data['SunSpot Activity'][:int(0.8 * len(data))]\n",
        "y_train = data['SunSpot Activity'][:int(0.8 * len(data))]\n",
        "X_test = data['SunSpot Activity'][int(0.8 * len(data)):]\n",
        "y_test = data['SunSpot Activity'][int(0.8 * len(data)):]\n",
        "\n",
        "# Create a SARIMA model\n",
        "model = SARIMAX(X_train, order=(1, 1, 1), seasonal_order=(1, 1, 1, 12))\n",
        "\n",
        "# Train the model\n",
        "model_fit = model.fit()\n",
        "\n",
        "# Make predictions on the test set\n",
        "y_pred = model_fit.predict(start=int(0.8 * len(data)), end=len(data))\n",
        "\n",
        "# Evaluate the model's performance\n",
        "rmse = np.sqrt(mean_squared_error(y_test, y_pred))\n",
        "print('RMSE:', rmse)\n",
        "\n",
        "# Plot the actual and predicted sunspot activity\n",
        "import matplotlib.pyplot as plt\n",
        "\n",
        "plt.plot(X_train, label='Training Data')\n",
        "plt.plot(y_pred, label='Predicted Data')\n",
        "plt.legend()\n",
        "plt.show()\n"
      ]
    }
  ]
}